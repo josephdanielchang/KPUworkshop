{
 "cells": [
  {
   "cell_type": "code",
   "execution_count": null,
   "metadata": {},
   "outputs": [],
   "source": [
    "# Backpropagation\n",
    "\n",
    "# classify digits 0-9 (28x28 pixels) using ANN\n",
    "# x is collection of N stacked input images 784*N\n",
    "# y is [0,1]^(10xN) collection of N input images\n",
    "# y_i,j (digit i, image j)\n",
    "\n",
    "# t:  iternation index of gradient descent\n",
    "# γ:  learning rate of gradient descent\n",
    "# Wk: matrix of weights at layer k \n",
    "# bk: vector of biases at layer k\n",
    "# x:  matrix with the N training input vectors in columns\n",
    "# hk=gk(ak):    matrix with all hidden outputs at layer k in columns\n",
    "# ak=Wkhk−1+bk: matrix with all weighted sums at layer k in columns\n",
    "# gk: activation function at layerk,\n",
    "# 1N: column vector of size N containing only ones"
   ]
  },
  {
   "cell_type": "code",
   "execution_count": 4,
   "metadata": {},
   "outputs": [],
   "source": [
    "import numpy as np\n",
    "from matplotlib import pyplot\n",
    "import MNISTtools"
   ]
  },
  {
   "cell_type": "code",
   "execution_count": 7,
   "metadata": {},
   "outputs": [
    {
     "name": "stdout",
     "output_type": "stream",
     "text": [
      "Help on function load in module MNISTtools:\n",
      "\n",
      "load(dataset='training', path=None)\n",
      "    Import either the training or testing MNIST data set.\n",
      "    It returns a pair with the first element being the collection of\n",
      "    images stacked in columns and the second element being a vector\n",
      "    of corresponding labels from 0 to 9.\n",
      "    \n",
      "    Arguments:\n",
      "        dataset (string, optional): either \"training\" or \"testing\".\n",
      "            (default: \"training\")\n",
      "        path (string, optional): the path pointing to the MNIST dataset\n",
      "            If path=None, it looks succesively for the dataset at:\n",
      "            '/datasets/MNIST' and './MNIST'. (default: None)\n",
      "    \n",
      "    Example:\n",
      "        x, lbl = load(dataset=\"testing\", path=\"/Folder/for/MNIST\")\n",
      "\n"
     ]
    }
   ],
   "source": [
    "help(MNISTtools.load)"
   ]
  },
  {
   "cell_type": "code",
   "execution_count": 8,
   "metadata": {},
   "outputs": [
    {
     "name": "stdout",
     "output_type": "stream",
     "text": [
      "Help on function show in module MNISTtools:\n",
      "\n",
      "show(image)\n",
      "    Render a given MNIST image provided as a column vector.\n",
      "    \n",
      "    Arguments:\n",
      "        image (array): an array of shape (28*28) or (28, 28) representing a\n",
      "            grey level image of size 28 x 28. Values are expected to be in the\n",
      "            range [0, 1].\n",
      "    \n",
      "    Example:\n",
      "        x, lbl = load(dataset=\"training\", path=\"/datasets/MNIST\")\n",
      "        show(x[:, 0])\n",
      "\n"
     ]
    }
   ],
   "source": [
    "help(MNISTtools.show)"
   ]
  },
  {
   "cell_type": "code",
   "execution_count": null,
   "metadata": {},
   "outputs": [],
   "source": [
    "xtrain = load(dataset='training', path=None)"
   ]
  },
  {
   "cell_type": "code",
   "execution_count": null,
   "metadata": {},
   "outputs": [],
   "source": []
  }
 ],
 "metadata": {
  "kernelspec": {
   "display_name": "Python 3",
   "language": "python",
   "name": "python3"
  },
  "language_info": {
   "codemirror_mode": {
    "name": "ipython",
    "version": 3
   },
   "file_extension": ".py",
   "mimetype": "text/x-python",
   "name": "python",
   "nbconvert_exporter": "python",
   "pygments_lexer": "ipython3",
   "version": "3.7.3"
  }
 },
 "nbformat": 4,
 "nbformat_minor": 2
}
