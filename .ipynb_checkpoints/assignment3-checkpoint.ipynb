{
 "cells": [
  {
   "cell_type": "markdown",
   "metadata": {},
   "source": [
    "## Getting Started"
   ]
  },
  {
   "cell_type": "code",
   "execution_count": 11,
   "metadata": {},
   "outputs": [],
   "source": [
    "%matplotlib notebook\n",
    "\n",
    "import os\n",
    "import numpy as np\n",
    "import torch\n",
    "from torch import nn\n",
    "from torch.nn import functional as F\n",
    "import torch.utils.data as td\n",
    "import torchvision as tv\n",
    "import pandas as pd\n",
    "from PIL import Image\n",
    "from matplotlib import pyplot as plt"
   ]
  },
  {
   "cell_type": "code",
   "execution_count": 12,
   "metadata": {},
   "outputs": [
    {
     "name": "stdout",
     "output_type": "stream",
     "text": [
      "cuda\n"
     ]
    }
   ],
   "source": [
    "device = 'cuda' if torch.cuda.is_available() else'cpu'\n",
    "print(device)"
   ]
  },
  {
   "cell_type": "markdown",
   "metadata": {},
   "source": [
    "## Data Loader"
   ]
  },
  {
   "cell_type": "code",
   "execution_count": 13,
   "metadata": {},
   "outputs": [
    {
     "name": "stdout",
     "output_type": "stream",
     "text": [
      "pod-u8508871\n",
      "jovyan\n"
     ]
    }
   ],
   "source": [
    "import socket\n",
    "import getpass\n",
    "\n",
    "hostname = socket.gethostname()\n",
    "username = getpass.getuser()\n",
    "print(hostname)\n",
    "print(username)\n",
    "\n",
    "dataset_root_dir = \"./kpuworkshop/birds/\""
   ]
  },
  {
   "cell_type": "code",
   "execution_count": 14,
   "metadata": {},
   "outputs": [],
   "source": [
    "class BirdsDataset(td.Dataset):\n",
    "\n",
    "    def __init__(self, root_dir, mode=\"train\", image_size=(224, 224)):\n",
    "        super(BirdsDataset, self).__init__()\n",
    "        self.image_size = image_size\n",
    "        self.mode = mode\n",
    "        self.data = pd.read_csv(os.path.join(root_dir, \"%s.csv\" % mode))\n",
    "        self.images_dir = os.path.join(root_dir, \"CUB_200_2011/images\")\n",
    "\n",
    "    def __len__(self):\n",
    "        return len(self.data)\n",
    "\n",
    "    def __repr__(self):\n",
    "        return \"BirdsDataset(mode={}, image_size={})\". \\\n",
    "               format(self.mode, self.image_size)\n",
    "\n",
    "    # returns image x of index idx together with class label d\n",
    "    # crops the image according to the boudnng box in the csv file\n",
    "    def __getitem__(self, idx):\n",
    "        img_path = os.path.join(self.images_dir, \\\n",
    "                                self.data.iloc[idx]['file_path'])\n",
    "        bbox = self.data.iloc[idx][['x1', 'y1', 'x2', 'y2']]\n",
    "        img = Image.open(img_path).convert('RGB')\n",
    "        img = img.crop([bbox[0], bbox[1], bbox[2], bbox[3]])\n",
    "        transform = tv.transforms.Compose([\n",
    "            # COMPLETE\n",
    "            ])\n",
    "        x = transform(img)\n",
    "        d = self.data.iloc[idx]['class']\n",
    "        return x, d\n",
    "\n",
    "    def number_of_classes(self):\n",
    "        return self.data['class'].max() + 1"
   ]
  }
 ],
 "metadata": {
  "kernelspec": {
   "display_name": "Python 3",
   "language": "python",
   "name": "python3"
  },
  "language_info": {
   "codemirror_mode": {
    "name": "ipython",
    "version": 3
   },
   "file_extension": ".py",
   "mimetype": "text/x-python",
   "name": "python",
   "nbconvert_exporter": "python",
   "pygments_lexer": "ipython3",
   "version": "3.7.3"
  }
 },
 "nbformat": 4,
 "nbformat_minor": 2
}
