{
 "cells": [
  {
   "cell_type": "code",
   "execution_count": 53,
   "metadata": {},
   "outputs": [],
   "source": [
    "# Polynomial Curve Fitting"
   ]
  },
  {
   "cell_type": "code",
   "execution_count": 121,
   "metadata": {},
   "outputs": [],
   "source": [
    "import numpy as np\n",
    "import matplotlib.pyplot as plt"
   ]
  },
  {
   "cell_type": "code",
   "execution_count": 122,
   "metadata": {},
   "outputs": [],
   "source": [
    "x = np.array([5.3,1.7,2.9,5.1,4.9,2.5,5.2,0.8,1.8,1.0,7.3,8.4,7.3])\n",
    "d = np.array([.95,.59,.88,.96,.99,.88,1.0,0,.63,.18,.97,.99,1.01])"
   ]
  },
  {
   "cell_type": "code",
   "execution_count": 123,
   "metadata": {},
   "outputs": [
    {
     "name": "stdout",
     "output_type": "stream",
     "text": [
      "(13, 6)\n"
     ]
    }
   ],
   "source": [
    "# Build X\n",
    "\n",
    "m = 5                      # order of polynomial\n",
    "X = np.zeros((x.size,m+1))\n",
    "\n",
    "for i in range(m+1): #13\n",
    "    X[:,i] = x**i\n",
    "    \n",
    "print(X.shape)"
   ]
  },
  {
   "cell_type": "code",
   "execution_count": 124,
   "metadata": {},
   "outputs": [],
   "source": [
    "# Find w\n",
    "\n",
    "w = np.linalg.solve(X.T.dot(X), X.T.dot(d)) # solves Aw=b\n",
    "                        #A          #b"
   ]
  },
  {
   "cell_type": "code",
   "execution_count": 126,
   "metadata": {},
   "outputs": [
    {
     "data": {
      "text/plain": [
       "[<matplotlib.lines.Line2D at 0x7fde7a973940>]"
      ]
     },
     "execution_count": 126,
     "metadata": {},
     "output_type": "execute_result"
    },
    {
     "data": {
      "image/png": "[encoded data removed]",
      "text/plain": [
       "<Figure size 432x288 with 1 Axes>"
      ]
     },
     "metadata": {
      "needs_background": "light"
     },
     "output_type": "display_data"
    }
   ],
   "source": [
    "# Find y\n",
    "\n",
    "y = X.dot(w)\n",
    "\n",
    "# Testing\n",
    "\n",
    "xtest = np.linspace(0,10,100)\n",
    "Xtest = np.zeros((xtest.size, m+1))\n",
    "for i in range(m+1): #100\n",
    "    Xtest[:,i] = xtest**i\n",
    "ytest = Xtest.dot(w)\n",
    "\n",
    "# Plot\n",
    "plt.figure()\n",
    "plt.plot(x,d,'x')\n",
    "plt.plot(xtest,ytest,'r')"
   ]
  },
  {
   "cell_type": "code",
   "execution_count": null,
   "metadata": {},
   "outputs": [],
   "source": [
    "xval = np.linspace(0.5,7,100)\n",
    "dval = 1- np.exp(0.75-xval)\n",
    "\n"
   ]
  }
 ],
 "metadata": {
  "kernelspec": {
   "display_name": "Python 3",
   "language": "python",
   "name": "python3"
  },
  "language_info": {
   "codemirror_mode": {
    "name": "ipython",
    "version": 3
   },
   "file_extension": ".py",
   "mimetype": "text/x-python",
   "name": "python",
   "nbconvert_exporter": "python",
   "pygments_lexer": "ipython3",
   "version": "3.7.3"
  }
 },
 "nbformat": 4,
 "nbformat_minor": 2
}
